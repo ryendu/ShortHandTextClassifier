{
 "cells": [
  {
   "cell_type": "code",
   "execution_count": 5,
   "metadata": {},
   "outputs": [],
   "source": [
    "import tensorflow as tf\n",
    "from tensorflow import keras\n",
    "import pandas as pd\n",
    "import numpy as np\n",
    "import os"
   ]
  },
  {
   "cell_type": "code",
   "execution_count": 6,
   "metadata": {},
   "outputs": [],
   "source": [
    "json = pd.read_json(\"Dataset/ShortendTextRecData.json\")\n",
    "json = json.to_numpy()"
   ]
  },
  {
   "cell_type": "code",
   "execution_count": 7,
   "metadata": {},
   "outputs": [
    {
     "name": "stdout",
     "output_type": "stream",
     "text": [
      "yay\n"
     ]
    }
   ],
   "source": [
    "y = []\n",
    "for index in json:\n",
    "    value = index[2]\n",
    "    if value == \"true\":\n",
    "        y.append(1)\n",
    "    else:\n",
    "        y.append(0)\n",
    "    \n",
    "    \n",
    "df = pd.read_json(\"Dataset/ShortendTextRecData.json\")\n",
    "x = df.drop(axis=1,labels=\"isShortHand\")\n",
    "x = x.to_numpy()\n",
    "y = np.array(y)\n",
    "print(\"yay\")\n",
    "xw = np.array([np.random.random(161)])\n",
    "\n",
    "def char_to_int(char):\n",
    "    if char == 'a':\n",
    "        return 1\n",
    "    elif char == 'b':\n",
    "        return 2\n",
    "    elif char == 'c':\n",
    "        return 3\n",
    "    elif char == 'd':\n",
    "        return 4\n",
    "    elif char == 'e':\n",
    "        return 5\n",
    "    elif char == 'f':\n",
    "        return 6\n",
    "    elif char == \"g\":\n",
    "        return 7\n",
    "    elif char == 'h':\n",
    "        return 8\n",
    "    elif char == 'i':\n",
    "        return 9\n",
    "    elif char == 'j':\n",
    "        return 10\n",
    "    elif char == 'k':\n",
    "        return 11\n",
    "    elif char == 'l':\n",
    "        return 12\n",
    "    elif char == 'm':\n",
    "        return 13\n",
    "    elif char == 'n':\n",
    "        return 14\n",
    "    elif char == 'o':\n",
    "        return 15\n",
    "    elif char == 'p':\n",
    "        return 16\n",
    "    elif char == 'q':\n",
    "        return 17\n",
    "    elif char == 'r':\n",
    "        return 18\n",
    "    elif char == 's':\n",
    "        return 19\n",
    "    elif char == 't':\n",
    "        return 20\n",
    "    elif char == 'u':\n",
    "        return 21\n",
    "    elif char == 'v':\n",
    "        return 22\n",
    "    elif char == 'w':\n",
    "        return 23\n",
    "    elif char == 's':\n",
    "        return 24\n",
    "    elif char == 'x':\n",
    "        return 25\n",
    "    elif char == 'y':\n",
    "        return 26\n",
    "    elif char == 'z':\n",
    "        return 27\n",
    "    elif char == ' ':\n",
    "        return 28\n",
    "    \n",
    "    \n",
    "def str_to_ints(strng):\n",
    "    result = []\n",
    "    res = [] \n",
    "    res[:] = strng\n",
    "    for char in res:\n",
    "        result.append(char_to_int(char))\n",
    "    return result\n",
    "    \n",
    "    \n",
    "def convert(list): \n",
    "      \n",
    "    # Converting integer list to string list \n",
    "    s = [str(i) for i in list] \n",
    "      \n",
    "    # Join list items using join() \n",
    "    res = int(\"\".join(s)) \n",
    "      \n",
    "    return((res))\n",
    "\n",
    "\n",
    "for i in x:\n",
    "    a = str_to_ints(i[0])\n",
    "    i[0] = convert(a)\n",
    "    \n",
    "    b = str_to_ints(i[1])\n",
    "    i[1] = convert(b)\n",
    "    \n",
    "    \n",
    "    \n",
    "x = np.array(x, dtype=float)"
   ]
  },
  {
   "cell_type": "markdown",
   "metadata": {},
   "source": [
    "## Training\n",
    "note that the following sklearn's build in MLP Classifier was not used for the final model, and was just an expiriment"
   ]
  },
  {
   "cell_type": "code",
   "execution_count": 14,
   "metadata": {},
   "outputs": [
    {
     "name": "stdout",
     "output_type": "stream",
     "text": [
      "54 70\n",
      "testing Acc: 0.7714285714285715\n"
     ]
    },
    {
     "name": "stderr",
     "output_type": "stream",
     "text": [
      "/Users/ryan/opt/anaconda3/lib/python3.7/site-packages/sklearn/neural_network/_multilayer_perceptron.py:571: ConvergenceWarning: Stochastic Optimizer: Maximum iterations (10000) reached and the optimization hasn't converged yet.\n",
      "  % self.max_iter, ConvergenceWarning)\n"
     ]
    }
   ],
   "source": [
    "from sklearn.neural_network import MLPClassifier\n",
    "from sklearn.model_selection import train_test_split\n",
    "x_train, x_test, y_train, y_test = train_test_split(x,y)\n",
    "classifier = MLPClassifier(max_iter=10000)\n",
    "classifier.fit(x_train,y_train)\n",
    "pred = classifier.predict(x_test)\n",
    "correct = 0\n",
    "total = pred.size\n",
    "for i in range(pred.size - 1):\n",
    "    model_pre = pred[i]\n",
    "    actrual = y_test[i]\n",
    "    if model_pre == actrual:\n",
    "        correct += 1\n",
    "        \n",
    "print(correct, total)\n",
    "print(\"testing Acc: {}\".format(correct / total))"
   ]
  },
  {
   "cell_type": "markdown",
   "metadata": {},
   "source": [
    "the following block of code is the block i used to train my model, the lines I commented were just some experiments and I was trying to find the best parameters"
   ]
  },
  {
   "cell_type": "code",
   "execution_count": null,
   "metadata": {},
   "outputs": [],
   "source": [
    "import random\n",
    "awsome_models = []\n",
    "\n",
    "for i in range(100):\n",
    "    model = keras.models.Sequential()\n",
    "#     import datetime\n",
    "#     log_dir = \"logs/fit/\" + datetime.datetime.now().strftime(\"%Y%m%d-%H%M%S\")\n",
    "#     tensorboard_cb = tf.keras.callbacks.TensorBoard(log_dir=log_dir, histogram_freq=1)\n",
    "    opimizers = ['SGD']\n",
    "    actvs = [\"relu\", \"selu\",\"elu\"]\n",
    "    model.add(keras.layers.Flatten(input_shape=x_train.shape[1:])) \n",
    "#     model.add(keras.layers.Dense(random.randint(10,500), activation=\"selu\")) \n",
    "#     model.add(keras.layers.Dense(random.randint(10,500), activation=\"selu\")) \n",
    "    model.add(keras.layers.Dense(70, activation=\"relu\")) \n",
    "    model.add(keras.layers.Dense(70, activation=\"relu\")) \n",
    "#     n_neurons = random.randint(10,500)\n",
    "#     activ = actvs[random.randint(0,2)]\n",
    "#     opt = opimizers[0]\n",
    "#     n_layers = range(random.randint(1,3))\n",
    "#     for i in n_layers :\n",
    "#         model.add(keras.layers.Dense(n_neurons, activation=activ)) \n",
    "                   \n",
    "                   \n",
    "    model.add(keras.layers.Dense(2, activation=\"softmax\"))\n",
    "    model.compile(loss=tf.keras.losses.BinaryCrossentropy(), optimizer=opt, metrics=[\"accuracy\"])\n",
    "#     model.fit(x_train, y_train, epochs=1, validation_split=0.1,callbacks=[tensorboard_cb])\n",
    "    model.fit(x_train, y_train, epochs=1, validation_split=0)\n",
    "    accuracy = model.evaluate(x_test,y_test)[1]\n",
    "#     print(\"Test accuracy: \", accuracy, \"for range \", i, \"n_neurons\", n_neurons, \"n_layers\", n_layers, \"optimizer\", opt, \"activation func \", activ)\n",
    "    print(\"Test accuracy: \", accuracy, \"for range \", i)\n",
    "    configurationw = model.get_config()\n",
    "    if accuracy >= 0.9:\n",
    "        whole_accuracy = round(accuracy * 100)\n",
    "        print(\"created model with {} percent accuracy and saving\".format(whole_accuracy))\n",
    "        model.save(\"modelckpt{}percent3layer70nbetterdataset.h5\".format(whole_accuracy))\n",
    "        awsome_models.append(whole_accuracy)\n",
    "        \n",
    "        "
   ]
  }
 ],
 "metadata": {
  "kernelspec": {
   "display_name": "Python 3",
   "language": "python",
   "name": "python3"
  },
  "language_info": {
   "codemirror_mode": {
    "name": "ipython",
    "version": 3
   },
   "file_extension": ".py",
   "mimetype": "text/x-python",
   "name": "python",
   "nbconvert_exporter": "python",
   "pygments_lexer": "ipython3",
   "version": "3.7.6"
  }
 },
 "nbformat": 4,
 "nbformat_minor": 4
}
